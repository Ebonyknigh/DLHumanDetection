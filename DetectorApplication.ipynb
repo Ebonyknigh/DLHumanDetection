{
 "cells": [
  {
   "cell_type": "code",
   "execution_count": 127,
   "metadata": {},
   "outputs": [],
   "source": [
    "%matplotlib inline\n",
    "from PIL import Image, ImageFont, ImageDraw, ImageEnhance\n",
    "from itertools import repeat\n",
    "import os\n",
    "import tensorflow as tf\n",
    "import time\n",
    "import numpy as np\n",
    "import pandas as pd\n",
    "from keras.models import Sequential\n",
    "from keras.layers.core import Dense, Dropout, Activation\n",
    "from keras.optimizers import RMSprop\n",
    "import keras\n",
    "from keras.models import Sequential\n",
    "from keras.layers import Dense, Dropout, Flatten\n",
    "from keras.layers import Conv2D, MaxPooling2D\n",
    "from keras.models import model_from_json\n",
    "import keras.callbacks as cb\n",
    "import matplotlib.pyplot as plt"
   ]
  },
  {
   "cell_type": "code",
   "execution_count": 3,
   "metadata": {},
   "outputs": [],
   "source": [
    "\n",
    "def loadModel(modelName, paramName):\n",
    "    # load json and create model\n",
    "    json_file = open(modelName, 'r')\n",
    "    loaded_model_json = json_file.read()\n",
    "    json_file.close()\n",
    "    loaded_model = model_from_json(loaded_model_json)\n",
    "    # load weights into new model\n",
    "    loaded_model.load_weights(paramName)\n",
    "    print(\"Loaded model from disk\")\n",
    "    return loaded_model"
   ]
  },
  {
   "cell_type": "code",
   "execution_count": 4,
   "metadata": {},
   "outputs": [],
   "source": [
    "def loadImage(imgFd):\n",
    "    \"\"\"\n",
    "    Return an array that contains {imageArray, topPixelPos, leftPixelPos}\n",
    "    \"\"\"\n",
    "    new_width=64\n",
    "    new_height=128\n",
    "    channel=3\n",
    "    result=[]\n",
    "    posInfo=[]\n",
    "    \n",
    "    width, height = imgFd.size   # Get dimensions\n",
    "    width=width-new_width\n",
    "    height=height-new_height\n",
    "    #select top left from available range\n",
    "    curWidth=0\n",
    "    curHeight=0\n",
    "    while(curWidth<width):\n",
    "        curHeight=0\n",
    "        while(curHeight<height):\n",
    "            #print(curWidth, curHeight)\n",
    "            top=curHeight\n",
    "            left=curWidth\n",
    "            im=imgFd.crop((left, top, left+new_width, top+new_height))\n",
    "            im=np.asarray(im)\n",
    "            _,_,z=im.shape\n",
    "            if(z==4):\n",
    "                im=np.delete(im,3,axis=2)\n",
    "            #im=im.reshape(new_width*new_height*3)\n",
    "            result.append(im)\n",
    "            posInfo.append([top,left])\n",
    "            #move height 32 pixel a time\n",
    "            curHeight+=32\n",
    "        curWidth+=16\n",
    "\n",
    "    return np.array(result), np.array(posInfo)"
   ]
  },
  {
   "cell_type": "code",
   "execution_count": 260,
   "metadata": {},
   "outputs": [],
   "source": [
    "def processImg(drc, imgName):\n",
    "    \"\"\"\n",
    "    Return a filePath and List that contains {imgArray, scaleRatio}\n",
    "    \"\"\"\n",
    "    train_dir = drc\n",
    "    inputFile=imgName\n",
    "    inputFile=os.path.join(train_dir, inputFile)\n",
    "    print(\"Input image is stored at:\",inputFile)\n",
    "    im=Image.open(inputFile, 'r')\n",
    "    scaleRatio=1\n",
    "    step=1.5\n",
    "    baseWidth,baseHeight=im.size\n",
    "    curWidth,curHeight=im.size\n",
    "    imgList=[]\n",
    "    while(curHeight>128 and curWidth>64):\n",
    "        scaleRatio=scaleRatio*step\n",
    "        img = im.resize((int(baseWidth/scaleRatio),int(baseHeight/scaleRatio)), Image.ANTIALIAS)\n",
    "        curHeight=img.size[1]\n",
    "        curWidth=img.size[0]\n",
    "    #backtrace\n",
    "    scaleRatio=scaleRatio/step\n",
    "    img = im.resize((int(baseWidth/scaleRatio),int(baseHeight/scaleRatio),), Image.ANTIALIAS)\n",
    "    #scaleRatio=scaleRatio/step\n",
    "    img2= im.resize((int(baseWidth/scaleRatio*step),int(baseHeight/scaleRatio*step),), Image.ANTIALIAS)\n",
    "    # scaleRatio=scaleRatio/step\n",
    "    # img3= im.resize((int(baseWidth/scaleRatio),int(baseHeight/scaleRatio),), Image.ANTIALIAS)\n",
    "    imgArr,posArr=loadImage(img)\n",
    "    imgList.append([imgArr,posArr, scaleRatio])\n",
    "    imgArr,posArr=loadImage(img2)\n",
    "    imgList.append([imgArr,posArr, scaleRatio/step])\n",
    "    # imgList.append(loadImage(img3))\n",
    "    return inputFile,imgList\n"
   ]
  },
  {
   "cell_type": "code",
   "execution_count": 261,
   "metadata": {},
   "outputs": [],
   "source": [
    "def detectPic(lst, modelLST):\n",
    "    \"\"\"\n",
    "    Return the scale of image being detected, and top, left pexil position of rectangle\n",
    "    \"\"\"\n",
    "    for trio in lst:\n",
    "        item=trio[0]\n",
    "        posInfo=trio[1]\n",
    "        scale=trio[2]\n",
    "        ans=modelLST[0].predict_classes(item)\n",
    "        ans2=modelLST[1].predict_classes(item)\n",
    "        ans3=modelLST[2].predict_classes(item)\n",
    "        vote=np.add(ans,ans2)\n",
    "        vote=np.add(vote,ans3)\n",
    "        if(np.amax(vote)==3):\n",
    "            pos=np.argmax(vote)\n",
    "            print(\"Good Confidence\")\n",
    "            print(\"ScaleRatio:\", scale)\n",
    "            print(\"pixelPos:\", posInfo[pos])\n",
    "#             return [scale, posInfo[pos],item[pos]]\n",
    "            return [scale, posInfo[pos][0],posInfo[pos][1], item[pos]]\n",
    "        else:\n",
    "            vote=(vote/2).astype(int)\n",
    "            if(np.amax(vote)==1):\n",
    "                pos=np.argmax(ans)\n",
    "                print(\"Average Confidence\")\n",
    "                print(\"ScaleRatio:\", scale)\n",
    "                print(\"pixelPos:\", posInfo[pos])\n",
    "#                 return [scale, posInfo[pos],item[pos]]\n",
    "                return [scale, posInfo[pos][0],posInfo[pos][1], item[pos]]\n",
    "    return False"
   ]
  },
  {
   "cell_type": "code",
   "execution_count": 262,
   "metadata": {},
   "outputs": [],
   "source": [
    "def outputImg(filePath,scale, top, left):\n",
    "    width=64\n",
    "    height=128\n",
    "    fileFd=Image.open(filePath,'r')\n",
    "    draw = ImageDraw.Draw(fileFd)\n",
    "    top=int(top*scale)\n",
    "    left=int(left*scale)\n",
    "    bottom=top+int(height*scale)\n",
    "    right=left+int(width*scale)\n",
    "    draw.line((left,top, left,bottom), fill=128, width=20)\n",
    "    draw.line((left,top, right,top), fill=128, width=20)\n",
    "    draw.line((left,bottom, right,bottom), fill=128, width=20)\n",
    "    draw.line((right,top, right,bottom), fill=128, width=20)\n",
    "    outPath=filePath[:-4]+'out.jpg'\n",
    "    fileFd.save(outPath)\n",
    "    print('Detected Image is saved at original location!')\n",
    "    return fileFd"
   ]
  },
  {
   "cell_type": "code",
   "execution_count": 263,
   "metadata": {},
   "outputs": [
    {
     "name": "stdout",
     "output_type": "stream",
     "text": [
      "Loaded model from disk\n",
      "Loaded model from disk\n",
      "Loaded model from disk\n"
     ]
    }
   ],
   "source": [
    "drc='./'\n",
    "modelName='modelD.json'\n",
    "paramName='modelD.h5'\n",
    "modelName2='modelD2.json'\n",
    "paramName2='modelD2.h5'\n",
    "modelName3='modelD3.json'\n",
    "paramName3='modelD3.h5'\n",
    "modelName=os.path.join(drc, modelName)\n",
    "paramName=os.path.join(drc, paramName)\n",
    "loaded_model=loadModel(modelName, paramName)\n",
    "loaded_model2=loadModel(modelName2, paramName2)\n",
    "loaded_model3=loadModel(modelName3, paramName3)\n",
    "loaded_model.compile(loss=keras.losses.binary_crossentropy,\n",
    "              optimizer=keras.optimizers.Adam(),\n",
    "              metrics=['accuracy'])\n",
    "loaded_model2.compile(loss=keras.losses.binary_crossentropy,\n",
    "              optimizer=keras.optimizers.Adam(),\n",
    "              metrics=['accuracy'])\n",
    "loaded_model3.compile(loss=keras.losses.binary_crossentropy,\n",
    "              optimizer=keras.optimizers.Adam(),\n",
    "              metrics=['accuracy'])\n",
    "modelList=[loaded_model, loaded_model2, loaded_model3]"
   ]
  },
  {
   "cell_type": "code",
   "execution_count": 278,
   "metadata": {},
   "outputs": [
    {
     "name": "stdout",
     "output_type": "stream",
     "text": [
      "Input image is stored at: ./App/3.jpg\n",
      "Average Confidence\n",
      "ScaleRatio: 17.0859375\n",
      "pixelPos: [32 64]\n",
      "Detected Image is saved at original location!\n"
     ]
    },
    {
     "data": {
      "image/png": "[encoded data removed]",
      "text/plain": [
       "<Figure size 432x288 with 1 Axes>"
      ]
     },
     "metadata": {
      "needs_background": "light"
     },
     "output_type": "display_data"
    }
   ],
   "source": [
    "im,imgList=processImg('./App', '3.jpg')\n",
    "quad=detectPic(imgList, modelList)\n",
    "if(type(quad)!=type(False)):\n",
    "    #human detected\n",
    "    img=outputImg(im,quad[0], quad[1],quad[2])\n",
    "    plt.imshow(quad[3])\n",
    "else:\n",
    "    print (\"There is no Human in this Picture!\")"
   ]
  },
  {
   "cell_type": "code",
   "execution_count": 275,
   "metadata": {},
   "outputs": [
    {
     "data": {
      "text/plain": [
       "[1, 2, 3, 4, 5, 6, 7, 8]"
      ]
     },
     "execution_count": 275,
     "metadata": {},
     "output_type": "execute_result"
    }
   ],
   "source": [
    "a"
   ]
  },
  {
   "cell_type": "code",
   "execution_count": null,
   "metadata": {},
   "outputs": [],
   "source": []
  }
 ],
 "metadata": {
  "kernelspec": {
   "display_name": "Python 3",
   "language": "python",
   "name": "python3"
  },
  "language_info": {
   "codemirror_mode": {
    "name": "ipython",
    "version": 3
   },
   "file_extension": ".py",
   "mimetype": "text/x-python",
   "name": "python",
   "nbconvert_exporter": "python",
   "pygments_lexer": "ipython3",
   "version": "3.7.1"
  }
 },
 "nbformat": 4,
 "nbformat_minor": 2
}
