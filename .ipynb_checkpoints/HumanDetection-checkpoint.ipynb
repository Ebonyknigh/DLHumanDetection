{
 "cells": [
  {
   "cell_type": "code",
   "execution_count": 19,
   "metadata": {},
   "outputs": [],
   "source": [
    "%matplotlib inline\n",
    "from PIL import Image\n",
    "from itertools import repeat\n",
    "import os\n",
    "import tensorflow as tf\n",
    "import numpy as np\n",
    "import pandas as pd\n",
    "from keras.models import Sequential\n",
    "from keras.layers.core import Dense, Dropout, Activation\n",
    "from keras.optimizers import RMSprop\n",
    "import keras\n",
    "from keras.models import Sequential\n",
    "from keras.layers import Dense, Dropout, Flatten\n",
    "from keras.layers import Conv2D, MaxPooling2D\n",
    "from keras.models import model_from_json\n",
    "import keras.callbacks as cb\n",
    "import matplotlib.pyplot as plt"
   ]
  },
  {
   "cell_type": "code",
   "execution_count": 13,
   "metadata": {},
   "outputs": [],
   "source": [
    "#Hyperparameter\n",
    "new_width=64\n",
    "new_height=128\n",
    "channel=3\n",
    "miniBatchSize=256"
   ]
  },
  {
   "cell_type": "code",
   "execution_count": 21,
   "metadata": {},
   "outputs": [
    {
     "name": "stdout",
     "output_type": "stream",
     "text": [
      "Saved model to disk\n"
     ]
    }
   ],
   "source": [
    "model_json = model.to_json()\n",
    "with open(\"model.json\", \"w\") as json_file:\n",
    "    json_file.write(model_json)\n",
    "# serialize weights to HDF5\n",
    "model.save_weights(\"model.h5\")\n",
    "print(\"Saved model to disk\")"
   ]
  },
  {
   "cell_type": "code",
   "execution_count": 18,
   "metadata": {},
   "outputs": [
    {
     "name": "stdout",
     "output_type": "stream",
     "text": [
      "Loaded model from disk\n"
     ]
    }
   ],
   "source": [
    "# load json and create model\n",
    "json_file = open('model.json', 'r')\n",
    "loaded_model_json = json_file.read()\n",
    "json_file.close()\n",
    "loaded_model = model_from_json(loaded_model_json)\n",
    "# load weights into new model\n",
    "loaded_model.load_weights(\"model.h5\")\n",
    "print(\"Loaded model from disk\")"
   ]
  },
  {
   "cell_type": "code",
   "execution_count": 3,
   "metadata": {},
   "outputs": [],
   "source": [
    "class LossHistory(cb.Callback):\n",
    "    def on_train_begin(self, logs={}):\n",
    "        self.losses = []\n",
    "\n",
    "    def on_batch_end(self, batch, logs={}):\n",
    "        batch_loss = logs.get('loss')\n",
    "        self.losses.append(batch_loss)"
   ]
  },
  {
   "cell_type": "code",
   "execution_count": 4,
   "metadata": {},
   "outputs": [
    {
     "name": "stdout",
     "output_type": "stream",
     "text": [
      "neg images are stored at: ./INRIAPerson/train_64x128_H96/neg.lst\n",
      "pos images are stored at: ./INRIAPerson/train_64x128_H96/pos.lst\n"
     ]
    }
   ],
   "source": [
    "train_dir = \"./INRIAPerson/train_64x128_H96\"\n",
    "neg=\"neg.lst\"\n",
    "pos='pos.lst'\n",
    "neg=os.path.join(train_dir, neg)\n",
    "pos=os.path.join(train_dir, pos)\n",
    "print(\"neg images are stored at:\",neg)\n",
    "print(\"pos images are stored at:\",pos)"
   ]
  },
  {
   "cell_type": "code",
   "execution_count": 5,
   "metadata": {},
   "outputs": [],
   "source": [
    "#Create two lists that contain locations of positive and negative images\n",
    "posList=[]\n",
    "negList=[]\n",
    "with open(neg, 'r') as f:\n",
    "    for line in f:\n",
    "        line=line[6:].strip('\\n')\n",
    "        line=os.path.join(train_dir, line)\n",
    "        negList.append(line)\n",
    "with open(pos, 'r') as f:\n",
    "    for line in f:\n",
    "        line=line[6:].strip('\\n')\n",
    "        line=os.path.join(train_dir, line)\n",
    "        posList.append(line)\n",
    "#Repeat each item in negList 3 times, for image reuse\n",
    "negList = [x for item in negList for x in repeat(item, 3)]"
   ]
  },
  {
   "cell_type": "code",
   "execution_count": 6,
   "metadata": {},
   "outputs": [],
   "source": [
    "#Load pos images from path specified at posList\n",
    "def loadPosImage(lst):\n",
    "    result=[]\n",
    "    for entry in lst:\n",
    "        im=Image.open(entry, 'r')\n",
    "        width, height = im.size   # Get dimensions\n",
    "        left = (width - new_width)/2\n",
    "        top = (height - new_height)/2\n",
    "        right = (width + new_width)/2\n",
    "        bottom = (height + new_height)/2\n",
    "        im=im.crop((left, top, right, bottom))\n",
    "        im=np.asarray(im)\n",
    "        _,_,z=im.shape\n",
    "        if(z==4):\n",
    "            im=np.delete(im,3,axis=2)\n",
    "        #im=im.reshape(new_width*new_height*3)\n",
    "        result.append(im)\n",
    "    return result\n",
    "\n",
    "def loadNegImage(lst):\n",
    "    result=[]\n",
    "    for entry in lst:\n",
    "        im=Image.open(entry, 'r')\n",
    "        width, height = im.size   # Get dimensions\n",
    "        width=width-new_width\n",
    "        height=height-new_height\n",
    "        #select top left from available range\n",
    "        top=np.random.randint(0,height)\n",
    "        left=np.random.randint(0, width)\n",
    "        im=im.crop((left, top, left+new_width, top+new_height))\n",
    "        im=np.asarray(im)\n",
    "        _,_,z=im.shape\n",
    "        if(z==4):\n",
    "            im=np.delete(im,3,axis=2)\n",
    "        #im=im.reshape(new_width*new_height*3)\n",
    "        result.append(im)\n",
    "    return result"
   ]
  },
  {
   "cell_type": "code",
   "execution_count": 7,
   "metadata": {},
   "outputs": [],
   "source": [
    "posImgList=loadPosImage(posList)\n",
    "negImgList=loadNegImage(negList)"
   ]
  },
  {
   "cell_type": "code",
   "execution_count": 8,
   "metadata": {},
   "outputs": [
    {
     "name": "stdout",
     "output_type": "stream",
     "text": [
      "2416  pos images,  3654 neg images\n"
     ]
    }
   ],
   "source": [
    "posLength=len(posList)\n",
    "negLength=len(negList)\n",
    "print(posLength, \" pos images, \", negLength, \"neg images\")\n",
    "#create tag for each image\n",
    "posTag=[[0,1]]*posLength\n",
    "negTag=[[1,0]]*negLength\n",
    "dataList=[]\n",
    "dataList.extend(posImgList)\n",
    "dataList.extend(negImgList)\n",
    "dataList=np.array(dataList)\n",
    "#dataList=np.append(posImgList, negImgList, axis = 0)\n",
    "dataTag=[]\n",
    "dataTag.extend(posTag)\n",
    "dataTag.extend(negTag)\n",
    "dataTag=np.array(dataTag)"
   ]
  },
  {
   "cell_type": "code",
   "execution_count": 9,
   "metadata": {},
   "outputs": [],
   "source": [
    "def SGDShuffle(inputList, size,sd):\n",
    "    np.random.seed(sd)\n",
    "    np.random.shuffle(inputList);\n",
    "    length=len(inputList)\n",
    "    batchNum=int(np.ceil(length/size))\n",
    "    newList=[]\n",
    "    for i in range(batchNum-2):\n",
    "        newList.append(inputList[i*size:(i+1)*size])\n",
    "    newList.append(inputList[(batchNum-1)*size:])\n",
    "    return np.array(newList)"
   ]
  },
  {
   "cell_type": "code",
   "execution_count": 10,
   "metadata": {},
   "outputs": [],
   "source": [
    "sd=np.random.randint(0,1000)\n",
    "mini_images=SGDShuffle(dataList,miniBatchSize,sd)\n",
    "mini_labels=SGDShuffle(dataTag,miniBatchSize,sd)\n",
    "sd=np.random.randint(0,1000)\n",
    "test_images=SGDShuffle(dataList,miniBatchSize,sd)\n",
    "test_labels=SGDShuffle(dataTag,miniBatchSize,sd)"
   ]
  },
  {
   "cell_type": "code",
   "execution_count": 11,
   "metadata": {},
   "outputs": [
    {
     "name": "stdout",
     "output_type": "stream",
     "text": [
      "WARNING:tensorflow:From /Users/lingfengli/anaconda3/lib/python3.7/site-packages/tensorflow/python/framework/op_def_library.py:263: colocate_with (from tensorflow.python.framework.ops) is deprecated and will be removed in a future version.\n",
      "Instructions for updating:\n",
      "Colocations handled automatically by placer.\n",
      "WARNING:tensorflow:From /Users/lingfengli/anaconda3/lib/python3.7/site-packages/keras/backend/tensorflow_backend.py:3445: calling dropout (from tensorflow.python.ops.nn_ops) with keep_prob is deprecated and will be removed in a future version.\n",
      "Instructions for updating:\n",
      "Please use `rate` instead of `keep_prob`. Rate should be set to `rate = 1 - keep_prob`.\n"
     ]
    }
   ],
   "source": [
    "model = Sequential()\n",
    "model.add(Conv2D(8, kernel_size=(3, 3),\n",
    "                activation='relu',\n",
    "                input_shape=(new_height, new_width, 3)))\n",
    "model.add(MaxPooling2D(pool_size=(2,2)))\n",
    "model.add(Conv2D(16, (3, 3), activation='relu'))\n",
    "model.add(MaxPooling2D(pool_size=(2,2)))\n",
    "model.add(Conv2D(16, (3,3), activation='relu'))\n",
    "model.add(MaxPooling2D(pool_size=(2,2)))\n",
    "model.add(Flatten())\n",
    "model.add(Dropout(0.25))\n",
    "model.add(Dense(512, activation='relu'))\n",
    "model.add(Dropout(0.25))\n",
    "model.add(Dense(64, activation='relu'))\n",
    "model.add(Dropout(0.25))\n",
    "model.add(Dense(2, activation='sigmoid'))\n",
    "model.compile(loss=keras.losses.binary_crossentropy,\n",
    "              optimizer=keras.optimizers.Adam(),\n",
    "              metrics=['accuracy'])"
   ]
  },
  {
   "cell_type": "code",
   "execution_count": 20,
   "metadata": {},
   "outputs": [
    {
     "name": "stdout",
     "output_type": "stream",
     "text": [
      "256/256 [==============================] - 0s 893us/step\n",
      "256/256 [==============================] - 0s 876us/step\n",
      "256/256 [==============================] - 0s 885us/step\n",
      "256/256 [==============================] - 0s 876us/step\n",
      "256/256 [==============================] - 0s 868us/step\n",
      "256/256 [==============================] - 0s 866us/step\n",
      "256/256 [==============================] - 0s 871us/step\n",
      "256/256 [==============================] - 0s 869us/step\n",
      "256/256 [==============================] - 0s 871us/step\n",
      "256/256 [==============================] - 0s 876us/step\n",
      "256/256 [==============================] - 0s 880us/step\n",
      "256/256 [==============================] - 0s 866us/step\n",
      "256/256 [==============================] - 0s 883us/step\n",
      "256/256 [==============================] - 0s 870us/step\n",
      "256/256 [==============================] - 0s 885us/step\n",
      "256/256 [==============================] - 0s 863us/step\n",
      "256/256 [==============================] - 0s 878us/step\n",
      "256/256 [==============================] - 0s 886us/step\n",
      "256/256 [==============================] - 0s 865us/step\n",
      "256/256 [==============================] - 0s 878us/step\n",
      "256/256 [==============================] - 0s 880us/step\n",
      "256/256 [==============================] - 0s 878us/step\n",
      "182/182 [==============================] - 0s 872us/step\n",
      "[0.0014818600611761212, 1.0]\n"
     ]
    },
    {
     "data": {
      "image/png": "[encoded data removed]",
      "text/plain": [
       "<Figure size 432x288 with 1 Axes>"
      ]
     },
     "metadata": {
      "needs_background": "light"
     },
     "output_type": "display_data"
    }
   ],
   "source": [
    "history = LossHistory()\n",
    "for i in range(len(mini_labels)):\n",
    "    model.fit(mini_images[i], mini_labels[i], epochs=5, batch_size=len(mini_images[i][0]),\n",
    "                callbacks=[history],validation_data=(test_images[i], test_labels[i]), verbose=0)\n",
    "    score = model.evaluate(test_images[i], test_labels[i], batch_size=miniBatchSize\n",
    "    )\n",
    "print(score)\n",
    "plt.plot(history.losses)\n",
    "plt.title('Loss per batch')\n",
    "plt.show()"
   ]
  },
  {
   "cell_type": "code",
   "execution_count": null,
   "metadata": {},
   "outputs": [],
   "source": []
  },
  {
   "cell_type": "code",
   "execution_count": null,
   "metadata": {},
   "outputs": [],
   "source": []
  }
 ],
 "metadata": {
  "kernelspec": {
   "display_name": "Python 3",
   "language": "python",
   "name": "python3"
  },
  "language_info": {
   "codemirror_mode": {
    "name": "ipython",
    "version": 3
   },
   "file_extension": ".py",
   "mimetype": "text/x-python",
   "name": "python",
   "nbconvert_exporter": "python",
   "pygments_lexer": "ipython3",
   "version": "3.7.1"
  }
 },
 "nbformat": 4,
 "nbformat_minor": 2
}
